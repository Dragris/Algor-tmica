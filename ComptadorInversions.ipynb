{
 "cells": [
  {
   "cell_type": "markdown",
   "metadata": {},
   "source": [
    "<p style=\"text-align:right;font-size:0.9em\">\n",
    "Grau d'Enginyeria Informàtica. Algorísmica\n",
    "</p>"
   ]
  },
  {
   "cell_type": "markdown",
   "metadata": {},
   "source": [
    "<h1 style=\"padding:0.5em 0;font:Garamond;font-size:1-5em;color:#F90;background-color:#005\">\n",
    "Problema: Comptador d'inversions en una llista\n",
    "</h1>"
   ]
  },
  {
   "cell_type": "markdown",
   "metadata": {},
   "source": [
    "<p style=\"font-family:Arial;font-size:1em\">\n",
    "Donada una llista d’enters comptar quantes inversions s'han fet. Si i < j diem que s'ha fet una inversió a la parella (i, j) quan A[i] > A [j] .\n",
    "</p>"
   ]
  },
  {
   "cell_type": "markdown",
   "metadata": {},
   "source": [
    "<div style=\"font-style:italic\">\n",
    "Per exemple:\n",
    "<ul>\n",
    "<li>Llista=[3,1,5,2,7,8,4]</li>\n",
    "<li>Solució:\n",
    "   <ul>\n",
    "   <li>S'han fet 5 inversions a la llista</li>\n",
    "   <li>Les inversions són: (3,1),(5,2),(5,4),(7,4),(8,4)</li>\n",
    "   </ul>\n",
    "</li>\n",
    "</ul>\n",
    "</div>"
   ]
  },
  {
   "cell_type": "code",
   "execution_count": 3,
   "metadata": {
    "scrolled": true
   },
   "outputs": [
    {
     "name": "stdout",
     "output_type": "stream",
     "text": [
      "S'han fet 6.0 inversions\n",
      "Les inversions son: (agafades en grups de dos en dos) [3, 1, 3, 2, 5, 2, 5, 4, 7, 4, 8, 4]\n"
     ]
    }
   ],
   "source": [
    "# Inserir aquí el codi de la solució\n",
    "def inver(lista):\n",
    "    results = []\n",
    "    for i in range(len(lista)):\n",
    "        j = i\n",
    "        for j in range(i+1,len(lista)):\n",
    "            if (lista[i] >= lista[j]):\n",
    "                results.append(lista[i])\n",
    "                results.append(lista[j])\n",
    "                \n",
    "    print (\"S'han fet\", len(results)/2, \"inversions\")\n",
    "    print (\"Les inversions son: (agafades en grups de dos en dos)\",results)\n",
    "    \n",
    "    \n",
    "n = [3,1,5,2,7,8,4]   \n",
    "inver(n)\n",
    "#Tn => a = 1 b = 1 y d = 1 caso 2 = O(n logn)"
   ]
  },
  {
   "cell_type": "markdown",
   "metadata": {},
   "source": [
    "<h2 style=\"height:2.5em;padding:0.5em 0;font:Garamond;font-size:1.2em;color:#FA0;background-color:#005\">\n",
    "Pregunta 1: Quina solució hauria de donar per als següents valors:\n",
    "</h2>"
   ]
  },
  {
   "cell_type": "markdown",
   "metadata": {},
   "source": [
    "- Llista:[1,8,6,4,5]\n",
    "- Llista:[4,6,1,3,9,4]\n",
    "- Llista3:[1,2] "
   ]
  },
  {
   "cell_type": "code",
   "execution_count": 2,
   "metadata": {
    "collapsed": true
   },
   "outputs": [],
   "source": [
    "# Inserir aquí les respostes\n",
    "(8,6)(8,4)(8,5)(6,4)(6,5)\n",
    "\n",
    "(6,1)(6,3)(9,4)\n",
    "\n",
    "No hay inversiones."
   ]
  },
  {
   "cell_type": "markdown",
   "metadata": {},
   "source": [
    "<h2 style=\"height:2.5em;padding:0.5em 0;font:Garamond;font-size:1.2em;color:#FA0;background-color:#005\">\n",
    "Pregunta 2: Aquest problema et recorda algun dels algorismes que hem vist de dividir i vèncer? quin? com caldria adaptar-lo?\n",
    "</h2>"
   ]
  },
  {
   "cell_type": "code",
   "execution_count": 3,
   "metadata": {
    "collapsed": true
   },
   "outputs": [],
   "source": [
    "# Inserir aquí les respostes\n",
    "Se podría hacer con el cálculo de la mediana elgiendo como v el valor n+1 en la lista, siendo n las repeticiones realizadas,\n",
    "y cogiendo solo los valores que son mayores a v.\n",
    "También podríamos hacerlo a través del algoritmo Quicksort obligando al pivote a ser el valor n+1 de la lista y almacenando los\n",
    "valores mayores al pivote."
   ]
  },
  {
   "cell_type": "markdown",
   "metadata": {},
   "source": [
    "<p style=\"text-align:right;font-size:0.9em\">\n",
    "&copy;Jordi Vitrià i Mireia Ribera\n",
    "</p>"
   ]
  }
 ],
 "metadata": {
  "kernelspec": {
   "display_name": "Python 3",
   "language": "python",
   "name": "python3"
  },
  "language_info": {
   "codemirror_mode": {
    "name": "ipython",
    "version": 3
   },
   "file_extension": ".py",
   "mimetype": "text/x-python",
   "name": "python",
   "nbconvert_exporter": "python",
   "pygments_lexer": "ipython3",
   "version": "3.7.0"
  }
 },
 "nbformat": 4,
 "nbformat_minor": 2
}
