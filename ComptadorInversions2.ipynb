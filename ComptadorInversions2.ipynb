{
 "cells": [
  {
   "cell_type": "markdown",
   "metadata": {},
   "source": [
    "<p style=\"text-align:right;font-size:0.9em\">\n",
    "Grau d'Enginyeria Informàtica. Algorísmica\n",
    "</p>"
   ]
  },
  {
   "cell_type": "markdown",
   "metadata": {},
   "source": [
    "<h1 style=\"padding:0.5em 0;font:Garamond;font-size:1-5em;color:#F90;background-color:#005\">\n",
    "Problema: Comptador d'inversions en una llista\n",
    "</h1>"
   ]
  },
  {
   "cell_type": "markdown",
   "metadata": {},
   "source": [
    "<p style=\"font-family:Arial;font-size:1em\">\n",
    "Donada una llista d’enters comptar quantes inversions s'han fet. Si i < j diem que s'ha fet una inversió a la parella (i, j) quan A[i] > A [j] .\n",
    "</p>"
   ]
  },
  {
   "cell_type": "markdown",
   "metadata": {},
   "source": [
    "<div style=\"font-style:italic\">\n",
    "Per exemple:\n",
    "<ul>\n",
    "<li>Llista=[3,1,5,2,7,8,4]</li>\n",
    "<li>Solució:\n",
    "   <ul>\n",
    "   <li>S'han fet 6 inversions a la llista</li>\n",
    "   <li>Les inversions són: (3,1),(3,2),(5,2),(5,4),(7,4),(8,4)</li>\n",
    "   </ul>\n",
    "</li>\n",
    "</ul>\n",
    "</div>"
   ]
  },
  {
   "cell_type": "code",
   "execution_count": 6,
   "metadata": {},
   "outputs": [],
   "source": [
    "# Inserir aquí el codi de la solució\n",
    "def inversion(listA, i, j, pairs):\n",
    "    if (j == -1):\n",
    "        return [\"Se han hecho\", str(len(pairs)),\"inversiones\", pairs]\n",
    "    elif (j == i):\n",
    "        return inversion(listA, 0, j-1, pairs)\n",
    "    else:\n",
    "        if(listA[i] >= listA[j]):\n",
    "            pairs.append((listA[i],listA[j]))\n",
    "        \n",
    "        return inversion(listA, i+1,j,pairs)\n",
    "# Tn => a = 1, b = 1, d = 0 => Caso 3 O(n)"
   ]
  },
  {
   "cell_type": "code",
   "execution_count": 7,
   "metadata": {},
   "outputs": [
    {
     "name": "stdout",
     "output_type": "stream",
     "text": [
      "['Se han hecho', '6', 'inversiones', [(5, 4), (7, 4), (8, 4), (3, 2), (5, 2), (3, 1)]]\n"
     ]
    }
   ],
   "source": [
    "l = [3,1,5,2,7,8,4]\n",
    "print (inversion(l, 0, len(l)-1, []))"
   ]
  },
  {
   "cell_type": "markdown",
   "metadata": {},
   "source": [
    "<h2 style=\"height:2.5em;padding:0.5em 0;font:Garamond;font-size:1.2em;color:#FA0;background-color:#005\">\n",
    "Pregunta 1: Quina solució hauria de donar per als següents valors:\n",
    "</h2>"
   ]
  },
  {
   "cell_type": "markdown",
   "metadata": {},
   "source": [
    "- Llista:[1,8,6,4,5]\n",
    "- Llista:[4,6,1,3,9,4]\n",
    "- Llista3:[1,2] "
   ]
  },
  {
   "cell_type": "code",
   "execution_count": 2,
   "metadata": {
    "collapsed": true
   },
   "outputs": [],
   "source": [
    "# Inserir aquí les respostes\n",
    "(8,6)(8,4)(8,5)(6,4)(6,5)\n",
    "\n",
    "(6,1)(6,3)(9,4)\n",
    "\n",
    "No hay inversiones."
   ]
  },
  {
   "cell_type": "markdown",
   "metadata": {},
   "source": [
    "<h2 style=\"height:2.5em;padding:0.5em 0;font:Garamond;font-size:1.2em;color:#FA0;background-color:#005\">\n",
    "Pregunta 2: Aquest problema et recorda algun dels algorismes que hem vist de dividir i vèncer? quin? com caldria adaptar-lo?\n",
    "</h2>"
   ]
  },
  {
   "cell_type": "code",
   "execution_count": 3,
   "metadata": {
    "collapsed": true
   },
   "outputs": [],
   "source": [
    "# Inserir aquí les respostes\n",
    "Como se ha hecho arriba, se puede aplicar un quicksort. Tanto desplazando el pivote izquierdo como el derecho, siempre y cuando\n",
    "se devuelva a un extremo cuando los dos se peguen. Y en vez de ordenarlo, guardas los valores en una lista auxiliar."
   ]
  },
  {
   "cell_type": "markdown",
   "metadata": {},
   "source": [
    "<p style=\"text-align:right;font-size:0.9em\">\n",
    "&copy;Jordi Vitrià i Mireia Ribera\n",
    "</p>"
   ]
  }
 ],
 "metadata": {
  "kernelspec": {
   "display_name": "Python 3",
   "language": "python",
   "name": "python3"
  },
  "language_info": {
   "codemirror_mode": {
    "name": "ipython",
    "version": 3
   },
   "file_extension": ".py",
   "mimetype": "text/x-python",
   "name": "python",
   "nbconvert_exporter": "python",
   "pygments_lexer": "ipython3",
   "version": "3.7.0"
  }
 },
 "nbformat": 4,
 "nbformat_minor": 2
}
