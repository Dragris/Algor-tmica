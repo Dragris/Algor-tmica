{
 "cells": [
  {
   "cell_type": "markdown",
   "metadata": {},
   "source": [
    "<p style=\"text-align:right;font-size:0.9em\">\n",
    "Grau d'Enginyeria Informàtica. Algorísmica\n",
    "</p>"
   ]
  },
  {
   "cell_type": "markdown",
   "metadata": {},
   "source": [
    "<h1 style=\"padding:0.5em 0;font:Garamond;font-size:1-5em;color:#F90;background-color:#005\">\n",
    "Sessió de Laboratori 2: Python2"
   ]
  },
  {
   "cell_type": "markdown",
   "metadata": {},
   "source": [
    "## Exercici 1\n",
    "\n",
    "+ Observa el següent codi i fes els canvis que s'indiquen en una nova casella de codi Python creada per tu. Per saber com funciona la impressió de valors dintre de cadenes de caràcters, pots consultar la <a href=\"https://docs.python.org/2/library/stdtypes.html#string-formatting-operations\" title=\"string-formatting-operations\">documentació de Python</a>."
   ]
  },
  {
   "cell_type": "code",
   "execution_count": 2,
   "metadata": {},
   "outputs": [
    {
     "name": "stdout",
     "output_type": "stream",
     "text": [
      "Digues-me un joc de mobil que t'agradi Angry Birds\n",
      "Digues-me per quin nivell vas 5\n",
      "Es una aplicacio Android (respon True o False) True\n",
      "Digues-me la puntuació que li dones a l'app 0.8\n",
      "La teva app s'anomena:  Angry Birds  vas pel nivell:  5  i és una aplicació Android:  True  la teva puntuació de l'app és:  0.8\n"
     ]
    }
   ],
   "source": [
    "def provaentrada():\n",
    "    app=input(\"Digues-me un joc de mobil que t'agradi \")\n",
    "    nivell=int(input(\"Digues-me per quin nivell vas \"))\n",
    "    android=input(\"Es una aplicacio Android (respon True o False) \") #amb bool sol no funciona\n",
    "    puntuacion=float(input(\"Digues-me la puntuació que li dones a l'app \"))\n",
    "    print (\"La teva app s'anomena: \",app,\" vas pel nivell: \",nivell,\" i és una aplicació Android: \",android, \" la teva puntuació de l'app és: \",puntuacion)\n",
    "    #Canvia les preguntes per tal de demanar les dades de dues apps simultàniament\n",
    "    #Demana també una puntuació per les apps entre 0 i 1 amb decimals (per ex. 0.3,0.5,0.7)\n",
    "    #Canvia el resultat segons els canvis anteriors \n",
    "    \n",
    "\n",
    "provaentrada()"
   ]
  },
  {
   "cell_type": "code",
   "execution_count": 11,
   "metadata": {
    "scrolled": true
   },
   "outputs": [
    {
     "name": "stdout",
     "output_type": "stream",
     "text": [
      "Digues-me dos jocs de mobil que t'agradin aa add\n",
      "Digues-me per quin nivell vas en el jocs 1\n",
      "Son aplicacions d'Android (respon True o False) tr\n",
      "Digues-me la puntuació que li dones a l'app 1\n",
      "La teva app s'anomena:  aa  vas pel nivell:  1  i és una aplicació Android:  tr  la teva puntuació de l'app és:  1.0\n",
      "add\n"
     ]
    }
   ],
   "source": [
    "def provaentrada2():\n",
    "    app,app2=input(\"Digues-me dos jocs de mobil que t'agradin \").split(\" \")\n",
    "    nivell,nivell2=int(input(\"Digues-me per quin nivell vas en el jocs \"))\n",
    "    android, android2=input(\"Son aplicacions d'Android (respon True o False) \") \n",
    "    puntuacion, puntuacion2=float(input(\"Digues-me la puntuació que li dones a l'app \"))\n",
    "    print (\"La primera app s'anomena: \",app,\" vas pel nivell: \",nivell,\" i és una aplicació Android: \",android, \" la teva puntuació de l'app és: \",puntuacion)\n",
    "    print (\"La segona app s'anomena: \",app2,\" vas pel nivell: \",nivell2,\" i és una aplicació Android: \",android2, \" la teva puntuació de l'app és: \",puntuacion2)\n",
    "    \"\"\"\n",
    "    Aquest programa demana les dades de dues apps de mòbil i mostra els resultats\n",
    "    :param cap\n",
    "    :return res\n",
    "    \"\"\"\n",
    "    \n",
    "provaentrada2()"
   ]
  },
  {
   "cell_type": "markdown",
   "metadata": {},
   "source": [
    "## Exercici 2\n",
    "\n",
    "+ Escriu, fent servir la instrucció ``while``, una funció, ``mentre``,  que calculi el següents valors:\n",
    "\n",
    "    +\tEl nombre de vegades que un nombre n pot ser dividir per $7$ abans d’arribar a $10$.\n",
    "    +\tLa multiplicació de tots els nombres enters positius dins **llista** fins a trobar un nombre negatiu. "
   ]
  },
  {
   "cell_type": "code",
   "execution_count": 28,
   "metadata": {},
   "outputs": [],
   "source": [
    "# Substitueix la comanda pass per la teva solució\n",
    "\n",
    "def mentre(n,llista):  \n",
    "    a = 0\n",
    "    b = 0\n",
    "    mult = 1\n",
    "    while n > 10:\n",
    "        a += 1\n",
    "        n /= 7\n",
    "    \n",
    "    while llista[b]>0:\n",
    "        mult *= llista[b]\n",
    "        b += 1\n",
    "    print(a, mult)"
   ]
  },
  {
   "cell_type": "code",
   "execution_count": 29,
   "metadata": {
    "scrolled": false
   },
   "outputs": [
    {
     "name": "stdout",
     "output_type": "stream",
     "text": [
      "2 10\n"
     ]
    }
   ],
   "source": [
    "#Test de la funció\n",
    "\n",
    "mentre(490,[1,2,5,1,-3,2]) # Aquest exemple hauria de retornar (2,10)"
   ]
  },
  {
   "cell_type": "markdown",
   "metadata": {},
   "source": [
    "## Exercici 3\n",
    "\n",
    "Escriu, fent servir la instrucció for, una funció, per, que calculi el següents valors:\n",
    "La suma dels n primers nombres parells\n",
    "Una llista amb els n primers nombres senars\n",
    "Atenció: el problema s'ha de resoldre amb iteracions"
   ]
  },
  {
   "cell_type": "code",
   "execution_count": 38,
   "metadata": {},
   "outputs": [],
   "source": [
    "# Substitueix la comanda pass per la teva solució\n",
    "\n",
    "def per(n):  \n",
    "    lista = []\n",
    "    y = 0\n",
    "    for x in range(0, n*2+1,2):\n",
    "        y = y + x\n",
    "    for x in range (1, n*2+1,2):\n",
    "        lista.append(x)\n",
    "    print(y,\",\",lista)"
   ]
  },
  {
   "cell_type": "code",
   "execution_count": 39,
   "metadata": {},
   "outputs": [
    {
     "name": "stdout",
     "output_type": "stream",
     "text": [
      "30 , [1, 3, 5, 7, 9]\n"
     ]
    }
   ],
   "source": [
    "# Test de la funció\n",
    "\n",
    "per(5)\n",
    "# aquest exemple hauria de retornar (30,[1,3,5,7,9])"
   ]
  },
  {
   "cell_type": "markdown",
   "metadata": {
    "collapsed": true
   },
   "source": [
    "## Problema 1: \n",
    "Resol el problema del conjunt de problemes **Calculadora**"
   ]
  },
  {
   "cell_type": "code",
   "execution_count": 1,
   "metadata": {},
   "outputs": [
    {
     "name": "stdout",
     "output_type": "stream",
     "text": [
      "Entre la operacion: 5*5\n",
      "25\n",
      "Entre la operacion: 7-8\n",
      "-1\n",
      "Entre la operacion: \n"
     ]
    }
   ],
   "source": [
    "def calculadora ():\n",
    "    x=input(\"Entre la operacion: \")\n",
    "    \n",
    "    while (x!=\"\"):\n",
    "        if '+' in x:\n",
    "            y = x.split(\"+\")\n",
    "            z = int(y[0])\n",
    "            c = int(y[1])\n",
    "            suma = z+c\n",
    "        elif '-' in x:\n",
    "            y = x.split(\"-\")\n",
    "            z = int(y[0])\n",
    "            c = int(y[1])\n",
    "            suma = z-c\n",
    "        elif '*' in x:\n",
    "            y = x.split(\"*\")\n",
    "            z = int(y[0])\n",
    "            c = int(y[1])\n",
    "            suma = z*c\n",
    "            \n",
    "        print(suma)\n",
    "        x=input(\"Entre la operacion: \")\n",
    "        \n",
    "calculadora()"
   ]
  },
  {
   "cell_type": "markdown",
   "metadata": {},
   "source": [
    "## Problema 2: \n",
    "Resol el problema del conjunt de problemes **ProuCerveses**"
   ]
  },
  {
   "cell_type": "code",
   "execution_count": 3,
   "metadata": {},
   "outputs": [],
   "source": [
    "def prouCerveses(numCerveses,esCapDeSetmana):\n",
    "    if(esCapDeSetmana == True):\n",
    "        if(numCerveses>50):\n",
    "            print(\"Èxit de festa\")\n",
    "        else:\n",
    "            print(\"Fracàs de festa\")\n",
    "    else:\n",
    "        if(numCerveses>50 and numCerveses<100):\n",
    "            print(\"Èxit de festa\")\n",
    "        else:\n",
    "            print(\"Fracàs de festa\")\n"
   ]
  },
  {
   "cell_type": "code",
   "execution_count": 6,
   "metadata": {},
   "outputs": [
    {
     "name": "stdout",
     "output_type": "stream",
     "text": [
      "Èxit de festa\n",
      "Fracàs de festa\n",
      "Èxit de festa\n"
     ]
    }
   ],
   "source": [
    "prouCerveses(75,False)\n",
    "prouCerveses(125,False)\n",
    "prouCerveses(125,True)"
   ]
  },
  {
   "cell_type": "markdown",
   "metadata": {},
   "source": [
    "## Problema 3: \n",
    "Resol el problema del conjunt de problemes **FactorialMenor**"
   ]
  },
  {
   "cell_type": "code",
   "execution_count": null,
   "metadata": {},
   "outputs": [],
   "source": [
    "def factmenor():\n",
    "    num=int(input(\"Pon el numero:  \"))\n",
    "    for i in range(num-1,0,-1):\n",
    "        num=i*num\n",
    "    print(num)\n",
    "    if(num<999999999999999999999999):\n",
    "        print(\"El factorial es menor\")\n",
    "    else:\n",
    "        print(\"El factorial es major\")\n",
    "    pass\n",
    "\n",
    "factmenor()"
   ]
  },
  {
   "cell_type": "markdown",
   "metadata": {},
   "source": [
    "## Problema 4: \n",
    "Resol el problema del conjunt de problemes **Feliç**"
   ]
  },
  {
   "cell_type": "code",
   "execution_count": 3,
   "metadata": {
    "scrolled": false
   },
   "outputs": [],
   "source": [
    "def feliz(n):\n",
    "    probados = []\n",
    "    while 1:\n",
    "        num_str = str(n)\n",
    "        a = 0\n",
    "        for i in num_str:\n",
    "            a += (int(i)* int(i))\n",
    "        if a == 1:\n",
    "                return True\n",
    "        elif a in probados:\n",
    "            return False\n",
    "        probados.append(a)\n",
    "        n = a"
   ]
  },
  {
   "cell_type": "code",
   "execution_count": 4,
   "metadata": {},
   "outputs": [
    {
     "data": {
      "text/plain": [
       "True"
      ]
     },
     "execution_count": 4,
     "metadata": {},
     "output_type": "execute_result"
    }
   ],
   "source": [
    "feliz(921)"
   ]
  },
  {
   "cell_type": "code",
   "execution_count": 5,
   "metadata": {},
   "outputs": [
    {
     "data": {
      "text/plain": [
       "False"
      ]
     },
     "execution_count": 5,
     "metadata": {},
     "output_type": "execute_result"
    }
   ],
   "source": [
    "feliz(717)"
   ]
  },
  {
   "cell_type": "code",
   "execution_count": 6,
   "metadata": {},
   "outputs": [
    {
     "data": {
      "text/plain": [
       "True"
      ]
     },
     "execution_count": 6,
     "metadata": {},
     "output_type": "execute_result"
    }
   ],
   "source": [
    "feliz(2039)"
   ]
  },
  {
   "cell_type": "code",
   "execution_count": 8,
   "metadata": {
    "scrolled": true
   },
   "outputs": [
    {
     "data": {
      "text/plain": [
       "442"
      ]
     },
     "execution_count": 8,
     "metadata": {},
     "output_type": "execute_result"
    }
   ],
   "source": [
    "len([x for x in range(3001) if feliz(x)])"
   ]
  },
  {
   "cell_type": "code",
   "execution_count": 9,
   "metadata": {},
   "outputs": [
    {
     "name": "stdout",
     "output_type": "stream",
     "text": [
      "8455\n"
     ]
    }
   ],
   "source": [
    "lista = [x for x in range(100000) if feliz(x)]\n",
    "print (lista[1233])"
   ]
  },
  {
   "cell_type": "code",
   "execution_count": 17,
   "metadata": {},
   "outputs": [
    {
     "name": "stdout",
     "output_type": "stream",
     "text": [
      "1\n",
      "No apocalipsis feliz\n"
     ]
    }
   ],
   "source": [
    "def apocaliptico(n):\n",
    "    return \"666\" in str(2**n)\n",
    "\n",
    "\n",
    "n = int(input(\"\"))\n",
    "apocaliptico(n)\n",
    "feliz(n)\n",
    "\n",
    "\n",
    "if (apocaliptico(n) == True and feliz(n) == True):\n",
    "    print (\"Apocalipsis feliz\")\n",
    "elif (apocaliptico(n) == True and feliz(n) != True):\n",
    "    print (\"Apocalipsis infeliz\")\n",
    "elif (apocaliptico(n) != True and feliz(n) == True):\n",
    "    print (\"No apocalipsis feliz\")\n",
    "else:\n",
    "    print (\"Ni apocalipsis ni felicidad\")\n",
    "    \n",
    "    "
   ]
  },
  {
   "cell_type": "markdown",
   "metadata": {},
   "source": [
    "<p style=\"text-align:right;font-size:0.9em\">\n",
    "&copy;Jordi Vitrià i Mireia Ribera\n",
    "</p>"
   ]
  }
 ],
 "metadata": {
  "kernelspec": {
   "display_name": "Python 3",
   "language": "python",
   "name": "python3"
  },
  "language_info": {
   "codemirror_mode": {
    "name": "ipython",
    "version": 3
   },
   "file_extension": ".py",
   "mimetype": "text/x-python",
   "name": "python",
   "nbconvert_exporter": "python",
   "pygments_lexer": "ipython3",
   "version": "3.6.5"
  }
 },
 "nbformat": 4,
 "nbformat_minor": 2
}
