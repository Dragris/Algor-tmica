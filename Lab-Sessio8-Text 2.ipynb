{
 "cells": [
  {
   "cell_type": "markdown",
   "metadata": {},
   "source": [
    "<p style=\"text-align:right;font-size:0.9em\">\n",
    "Grau d'Enginyeria Informàtica. Algorísmica\n",
    "</p>"
   ]
  },
  {
   "cell_type": "markdown",
   "metadata": {},
   "source": [
    "<h1 style=\"padding:0.5em 0;font:Garamond;font-size:1-5em;color:#F90;background-color:#005\">\n",
    "Sessió de Laboratori 8: Text 2</h1>"
   ]
  },
  {
   "cell_type": "markdown",
   "metadata": {
    "collapsed": true
   },
   "source": [
    "## Problema 1: \n",
    "Resol el problema del conjunt de problemes **Levensthein** i **LevenstheinBacktracking**"
   ]
  },
  {
   "cell_type": "markdown",
   "metadata": {},
   "source": [
    "<p style=\"text-align:right;font-size:0.9em\">\n",
    "&copy;Jordi Vitrià i Mireia Ribera\n",
    "</p>"
   ]
  },
  {
   "cell_type": "code",
   "execution_count": 9,
   "metadata": {},
   "outputs": [],
   "source": [
    "import time\n",
    "def dna(listaP, fichero):\n",
    "    t0 = time.clock()\n",
    "    dlt, insr, subs = 2, 2, 1\n",
    "    indp = 0\n",
    "    linea, dist = [0]*(len(listaP)+1), [0]\n",
    "    \n",
    "    f = open(fichero,'r')\n",
    "    texto = f.readlines()\n",
    "    f.close()\n",
    "\n",
    "    for patron in listaP:\n",
    "        indp += 1\n",
    "        patron_length = len(patron) + 1\n",
    "        dist.append(patron_length)\n",
    "        ind = 0\n",
    "        for line in texto:\n",
    "            ind += 1\n",
    "            text  = line[0:-2] \n",
    "            text_length = len(text) + 1\n",
    "            dist_matriz = [[0] * text_length for x in range(patron_length)]\n",
    "            for i in range(patron_length):dist_matriz[i][0] = i  \n",
    "            for i in range(1, patron_length):\n",
    "                for j in range(1, text_length):\n",
    "                    deletion = dist_matriz[i-1][j] + dlt\n",
    "                    insertion = dist_matriz[i][j-1] + insr\n",
    "                    substitution = dist_matriz[i-1][j-1]\n",
    "                    if patron[i-1] != text[j-1]: \n",
    "                        substitution += subs\n",
    "                    dist_matriz[i][j] = min(insertion, deletion, substitution)\n",
    "            dist2 = min(dist_matriz[patron_length-1])\n",
    "            if dist2 < dist[indp]:\n",
    "                    dist[indp], linea[indp] = dist2, ind\n",
    "                     \n",
    "    \n",
    "    t2 = time.clock()\n",
    "    tiempo = t2 - t0\n",
    "    return ([['AGATACATTAGACAATAGAGATGTGGTC',linea[1],dist[1]],\n",
    "            ['GTCAGTCTGGCCTTGCCATTGGTGCCACCA',linea[2],dist[2]],\n",
    "            ['TACCGAGAAGCTGGATTACAGCATGTACCATCAT',linea[3],dist[3]],\n",
    "            tiempo])"
   ]
  },
  {
   "cell_type": "code",
   "execution_count": 10,
   "metadata": {
    "scrolled": true
   },
   "outputs": [
    {
     "name": "stderr",
     "output_type": "stream",
     "text": [
      "C:\\Anaconda\\lib\\site-packages\\ipykernel_launcher.py:4: DeprecationWarning: time.clock has been deprecated in Python 3.3 and will be removed from Python 3.8: use time.perf_counter or time.process_time instead\n",
      "  after removing the cwd from sys.path.\n",
      "C:\\Anaconda\\lib\\site-packages\\ipykernel_launcher.py:44: DeprecationWarning: time.clock has been deprecated in Python 3.3 and will be removed from Python 3.8: use time.perf_counter or time.process_time instead\n"
     ]
    },
    {
     "data": {
      "text/plain": [
       "[['AGATACATTAGACAATAGAGATGTGGTC', 32, 11],\n",
       " ['GTCAGTCTGGCCTTGCCATTGGTGCCACCA', 352, 11],\n",
       " ['TACCGAGAAGCTGGATTACAGCATGTACCATCAT', 233, 13],\n",
       " 2.7740182480000612]"
      ]
     },
     "execution_count": 10,
     "metadata": {},
     "output_type": "execute_result"
    }
   ],
   "source": [
    "dna(['AGATACATTAGACAATAGAGATGTGGTC', 'GTCAGTCTGGCCTTGCCATTGGTGCCACCA', 'TACCGAGAAGCTGGATTACAGCATGTACCATCAT'], 'HUMAN-DNA.txt')"
   ]
  },
  {
   "cell_type": "code",
   "execution_count": 13,
   "metadata": {},
   "outputs": [],
   "source": [
    "import time\n",
    "def dna2():\n",
    "    patron = \"GGCCTTGCCATTGG\"\n",
    "    fichero = \"HUMAN-DNA.txt\"\n",
    "    t0 = time.clock()\n",
    "    dist, substring, dlt, insr, subs = [0], [\"\"], 2, 2, 1\n",
    "    indp = 0\n",
    "    patron_length = len(patron) + 1\n",
    "    dist.append(len(patron) + 1)\n",
    "\n",
    "    f = open(fichero,\"r\")\n",
    "    texto = f.readlines()\n",
    "    f.close()\n",
    "    texto = texto[:10]\n",
    "\n",
    "    #Bucle per a cada linia\n",
    "    for line in texto:\n",
    "        indp += 1\n",
    "        substring.append(\"\")\n",
    "        dist.append(patron_length)\n",
    "        \n",
    "        text = line[0:-2]\n",
    "        text_length = len(text) + 1\n",
    "\n",
    "        dist_matriz = [[0] * text_length for x in range(patron_length)]\n",
    "        substring_matriz = [[0] * text_length for x in range(patron_length)]\n",
    "        \n",
    "        #Levenshtein\n",
    "        for i in range(patron_length):dist_matriz[i][0] = i\n",
    "        for i in range(1, patron_length):\n",
    "            for j in range(1, text_length):\n",
    "                deletion = dist_matriz[i-1][j] + dlt\n",
    "                insertion = dist_matriz[i][j-1] + insr\n",
    "                substitution = dist_matriz[i-1][j-1]\n",
    "                if patron[i-1] != text[j-1]: \n",
    "                    substitution += subs\n",
    "                if substitution < insertion and substitution < deletion:\n",
    "                    substring_matriz[i][j] = substring_matriz[i-1][j-1] + 1\n",
    "                    dist_matriz[i][j] = substitution\n",
    "                if insertion < deletion and insertion <= substitution:\n",
    "                    substring_matriz[i][j] = substring_matriz[i][j-1] + 1\n",
    "                    dist_matriz[i][j] = insertion\n",
    "                if deletion <= insertion and deletion <= substitution:\n",
    "                    substring_matriz[i][j] = substring_matriz[i-1][j] + 0\n",
    "                    dist_matriz[i][j] = deletion\n",
    "        for i in range(text_length):\n",
    "            if dist_matriz[patron_length-1][i] < dist[indp] :\n",
    "                dist[indp] = dist_matriz[patron_length-1][i]\n",
    "                mover = substring_matriz[patron_length-1][i]\n",
    "                last = i\n",
    "        substring[indp] = line[(last-mover):last]\n",
    "        \n",
    "    \n",
    "    t2 = time.clock()\n",
    "    tiempo= t2 - t0\n",
    "    \n",
    "    return ( [[ 1,dist[1],substring[1]],\n",
    "              [ 2,dist[2],substring[2]],\n",
    "              [ 3,dist[3],substring[3]],\n",
    "              [ 4,dist[4],substring[4]],\n",
    "              [ 5,dist[5],substring[5]],\n",
    "              [ 6,dist[6],substring[6]],\n",
    "              [ 7,dist[7],substring[7]],\n",
    "              [ 8,dist[8],substring[8]],\n",
    "              [ 9,dist[9],substring[9]],\n",
    "              [10,dist[10],substring[10]],\n",
    "                tiempo])"
   ]
  },
  {
   "cell_type": "code",
   "execution_count": 14,
   "metadata": {
    "scrolled": true
   },
   "outputs": [
    {
     "name": "stderr",
     "output_type": "stream",
     "text": [
      "C:\\Anaconda\\lib\\site-packages\\ipykernel_launcher.py:5: DeprecationWarning: time.clock has been deprecated in Python 3.3 and will be removed from Python 3.8: use time.perf_counter or time.process_time instead\n",
      "  \"\"\"\n",
      "C:\\Anaconda\\lib\\site-packages\\ipykernel_launcher.py:54: DeprecationWarning: time.clock has been deprecated in Python 3.3 and will be removed from Python 3.8: use time.perf_counter or time.process_time instead\n"
     ]
    },
    {
     "data": {
      "text/plain": [
       "[[1, 6, 'GGACTTGCCTCAC'],\n",
       " [2, 8, 'GGCTCTCCACACA'],\n",
       " [3, 6, 'GGAATTTCACTGG'],\n",
       " [4, 7, 'GGAAATTCAATTTA'],\n",
       " [5, 8, 'TGCTAAACAGTAG'],\n",
       " [6, 8, 'AGCTTTATTTGG'],\n",
       " [7, 7, 'GGTCATTCTAATAA'],\n",
       " [8, 7, 'ATCCATGTTTTTAG'],\n",
       " [9, 7, 'CGAGTTTCAAATGC'],\n",
       " [10, 8, 'TTCAATATAATTGC'],\n",
       " 0.0063385529999777646]"
      ]
     },
     "execution_count": 14,
     "metadata": {},
     "output_type": "execute_result"
    }
   ],
   "source": [
    "dna2()"
   ]
  }
 ],
 "metadata": {
  "kernelspec": {
   "display_name": "Python 3",
   "language": "python",
   "name": "python3"
  },
  "language_info": {
   "codemirror_mode": {
    "name": "ipython",
    "version": 3
   },
   "file_extension": ".py",
   "mimetype": "text/x-python",
   "name": "python",
   "nbconvert_exporter": "python",
   "pygments_lexer": "ipython3",
   "version": "3.7.0"
  }
 },
 "nbformat": 4,
 "nbformat_minor": 2
}
