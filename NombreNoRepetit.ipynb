{
 "cells": [
  {
   "cell_type": "markdown",
   "metadata": {},
   "source": [
    "<p style=\"text-align:right;font-size:0.9em\">\n",
    "Grau d'Enginyeria Informàtica. Algorísmica\n",
    "</p>"
   ]
  },
  {
   "cell_type": "markdown",
   "metadata": {},
   "source": [
    "<h1 style=\"padding:0.5em 0;font:Garamond;font-size:1-5em;color:#F90;background-color:#005\">\n",
    "Problema: Nombre no repetit\n",
    "</h1>"
   ]
  },
  {
   "cell_type": "markdown",
   "metadata": {},
   "source": [
    "<p style=\"font-family:Arial;font-size:1em\">\n",
    "Donada una llista de nombres en la que cada nombre apareix dues vegades (una darrera l'altra) i només hi ha un element que surt una vegada, trobar aquest element amb un algorisme  de complexitat O(logn) .\n",
    "</p>"
   ]
  },
  {
   "cell_type": "code",
   "execution_count": 3,
   "metadata": {},
   "outputs": [
    {
     "name": "stdout",
     "output_type": "stream",
     "text": [
      "2\n"
     ]
    }
   ],
   "source": [
    "def search(llista):\n",
    "    mid = len(llista)//2\n",
    "    if llista[mid] != llista[mid-1] and llista[mid] != llista[mid+1]:\n",
    "        print(llista[mid])\n",
    "    else:\n",
    "        if len(llista) > 3:\n",
    "            if llista[mid] == llista[mid+1]:\n",
    "                izquierda = llista[:mid]\n",
    "                derecha = llista[mid:]\n",
    "            elif llista[mid] == llista[mid-1]:\n",
    "                derecha = llista[:mid+1]\n",
    "                izquierda = llista[mid-1:] \n",
    "        else:\n",
    "            if llista[0] == llista [1]:\n",
    "                derecha = llista[mid+1:]\n",
    "                izquierda = llista[:mid+1]\n",
    "            else:\n",
    "                derecha = llista[mid:]\n",
    "                izquierda = llista[:mid]\n",
    "        if len(derecha) != 1 and len(izquierda) != 1:\n",
    "            if len(derecha)%2 == 0:\n",
    "                search(izquierda)\n",
    "            elif len(derecha)%2 != 0:\n",
    "                search(derecha)\n",
    "        else:\n",
    "            if len(derecha) == 1:\n",
    "                print(derecha[0])\n",
    "            else:\n",
    "                print(izquierda[0])\n",
    "\n",
    "# Test\n",
    "llista = [ 1, 1, 2, 4, 4, 5, 5, 6, 6 ]\n",
    "search(llista)\n",
    "# Tn => 1T(n/1)+n        a = 1, b = 1, d = 1\n",
    "# 1 = log1 1, O(n) = 1 log n"
   ]
  },
  {
   "cell_type": "markdown",
   "metadata": {},
   "source": [
    "<p style=\"text-align:right;font-size:0.9em\">\n",
    "&copy;Jordi Vitrià i Mireia Ribera\n",
    "</p>"
   ]
  }
 ],
 "metadata": {
  "kernelspec": {
   "display_name": "Python 3",
   "language": "python",
   "name": "python3"
  },
  "language_info": {
   "codemirror_mode": {
    "name": "ipython",
    "version": 3
   },
   "file_extension": ".py",
   "mimetype": "text/x-python",
   "name": "python",
   "nbconvert_exporter": "python",
   "pygments_lexer": "ipython3",
   "version": "3.7.0"
  }
 },
 "nbformat": 4,
 "nbformat_minor": 2
}
