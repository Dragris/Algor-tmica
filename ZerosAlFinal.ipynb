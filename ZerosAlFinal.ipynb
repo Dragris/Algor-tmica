{
 "cells": [
  {
   "cell_type": "markdown",
   "metadata": {},
   "source": [
    "<p style=\"text-align:right;font-size:0.9em\">\n",
    "Grau d'Enginyeria Informàtica. Algorísmica. \n",
    "</p>"
   ]
  },
  {
   "cell_type": "markdown",
   "metadata": {},
   "source": [
    "<h1 style=\"padding:0.5em 0;font:Garamond;font-size:1-5em;color:#F90;background-color:#005\">\n",
    "Problema: Zeros al final\n",
    "</h1>"
   ]
  },
  {
   "cell_type": "markdown",
   "metadata": {},
   "source": [
    "<p style=\"font-family:Arial;font-size:1em\">\n",
    "Donada una llista d’enters, moure tots els zeros que contingui al final de la llista, sense alterar l'ordre relatiu de la resta d'elements.\n",
    "</p>"
   ]
  },
  {
   "cell_type": "markdown",
   "metadata": {},
   "source": [
    "<div style=\"font-style:italic\">\n",
    "Per exemple:\n",
    "<ul>\n",
    "<li>Llista=[3,1,0,5,0,0,2,7,8]</li>\n",
    "<li>Solució:\n",
    "   <ul>\n",
    "   <li>[3,1,5,2,7,8,0,0,0]</li>\n",
    "   </ul>\n",
    "</li>\n",
    "</ul>\n",
    "</div>"
   ]
  },
  {
   "cell_type": "code",
   "execution_count": 6,
   "metadata": {},
   "outputs": [
    {
     "data": {
      "text/plain": [
       "[3, 1, 5, 2, 7, 8, 0, 0, 0]"
      ]
     },
     "execution_count": 6,
     "metadata": {},
     "output_type": "execute_result"
    }
   ],
   "source": [
    "# Inserir aquí el codi de la solució\n",
    "def ord(lista):\n",
    "    for i in range(len(lista)):\n",
    "        if (lista[i] == 0):\n",
    "            lista.append(0)\n",
    "            lista.remove(0)\n",
    "    return lista\n",
    "\n",
    "n = [3,1,0,5,0,0,2,7,8]\n",
    "ord(n)\n",
    "# Big O O(n**2)"
   ]
  },
  {
   "cell_type": "code",
   "execution_count": 1,
   "metadata": {},
   "outputs": [
    {
     "name": "stdout",
     "output_type": "stream",
     "text": [
      "[3, 1, 5, 2, 7, 8, 0, 0, 0]\n"
     ]
    }
   ],
   "source": [
    "def ord2(lista):\n",
    "    result = lista[:]#Clon\n",
    "    j = -1\n",
    "    for i in range(len(lista)):\n",
    "        if (lista[i] != 0):\n",
    "            result[i+j+1] = lista[i] #Esto nos calcula la nueva posición de los números debido a los cambios al mover los 0s.\n",
    "        else: #El else se usa para meter los números 0 al final, cambiando cada vez el valor de j por el número de 0s que tenemos en negativo.\n",
    "            result[j] = 0\n",
    "            j -= 1\n",
    "    print(result)\n",
    "    \n",
    "    \n",
    "lista = [3,1,0,5,0,0,2,7,8]\n",
    "ord2(lista)\n",
    "# Big O O(n**2)"
   ]
  },
  {
   "cell_type": "markdown",
   "metadata": {},
   "source": [
    "<h2 style=\"padding:0.5em 0;font:Garamond;font-size:1.2em;color:#FA0;background-color:#005\">\n",
    "Pregunta 1: El problema et recorda algun dels algorismes de dividir i vèncer? quin? com el pots usar?\n",
    "</h2>"
   ]
  },
  {
   "cell_type": "code",
   "execution_count": null,
   "metadata": {
    "collapsed": true
   },
   "outputs": [],
   "source": [
    "# Inserir aquí les respostes\n",
    "Se podría hacer con un quicksort obligando a los pivotes ser 0s y que los cambios con los números los haga a la posición n+1\n",
    "siendo n el número de veces que se ha hecho un intercambio con un número diferente a 0."
   ]
  },
  {
   "cell_type": "markdown",
   "metadata": {},
   "source": [
    "<h2 style=\"padding:0.5em 0;font:Garamond;font-size:1.2em;color:#FA0;background-color:#005\">\n",
    "Pregunta 2: Modifica l'algorisme per moure tot els zeros al principi\n",
    "</h2>"
   ]
  },
  {
   "cell_type": "code",
   "execution_count": 57,
   "metadata": {},
   "outputs": [
    {
     "name": "stdout",
     "output_type": "stream",
     "text": [
      "[0, 0, 0, 3, 1, 5, 2, 7, 8]\n"
     ]
    }
   ],
   "source": [
    "# Inserir aquí les respostes\n",
    "def ord3(lista):\n",
    "    ceros = []\n",
    "    result = lista[:]#Clon\n",
    "    j = -1\n",
    "    for i in range(len(lista)):\n",
    "        if (lista[i] != 0):\n",
    "            result[i+j+1] = lista[i] \n",
    "        else:\n",
    "            result[j] = 0\n",
    "            j -= 1\n",
    "    for k in range(-j-1):\n",
    "        result.remove(0)\n",
    "        ceros.append(0)\n",
    "    result = ceros + result\n",
    "    print(result)\n",
    "lista = [3,1,0,5,0,0,2,7,8]\n",
    "ord3(lista)\n",
    "# Big O O(n**2)"
   ]
  },
  {
   "cell_type": "markdown",
   "metadata": {},
   "source": [
    "<p style=\"text-align:right;font-size:0.9em\">\n",
    "&copy;Jordi Vitrià i Mireia Ribera\n",
    "</p>"
   ]
  }
 ],
 "metadata": {
  "kernelspec": {
   "display_name": "Python 3",
   "language": "python",
   "name": "python3"
  },
  "language_info": {
   "codemirror_mode": {
    "name": "ipython",
    "version": 3
   },
   "file_extension": ".py",
   "mimetype": "text/x-python",
   "name": "python",
   "nbconvert_exporter": "python",
   "pygments_lexer": "ipython3",
   "version": "3.7.0"
  }
 },
 "nbformat": 4,
 "nbformat_minor": 2
}
