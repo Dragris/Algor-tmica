{
 "cells": [
  {
   "cell_type": "markdown",
   "metadata": {},
   "source": [
    "<p style=\"text-align:right;font-size:0.9em\">\n",
    "Grau d'Enginyeria Informàtica. Algorísmica. \n",
    "</p>"
   ]
  },
  {
   "cell_type": "markdown",
   "metadata": {},
   "source": [
    "<h1 style=\"padding:0.5em 0;font:Garamond;font-size:1-5em;color:#F90;background-color:#005\">\n",
    "Problema: Zeros al final\n",
    "</h1>"
   ]
  },
  {
   "cell_type": "markdown",
   "metadata": {},
   "source": [
    "<p style=\"font-family:Arial;font-size:1em\">\n",
    "Donada una llista d’enters, moure tots els zeros que contingui al final de la llista, sense alterar l'ordre relatiu de la resta d'elements.\n",
    "</p>"
   ]
  },
  {
   "cell_type": "markdown",
   "metadata": {},
   "source": [
    "<div style=\"font-style:italic\">\n",
    "Per exemple:\n",
    "<ul>\n",
    "<li>Llista=[3,1,0,5,0,0,2,7,8]</li>\n",
    "<li>Solució:\n",
    "   <ul>\n",
    "   <li>[3,1,5,2,7,8,0,0,0]</li>\n",
    "   </ul>\n",
    "</li>\n",
    "</ul>\n",
    "</div>"
   ]
  },
  {
   "cell_type": "code",
   "execution_count": 2,
   "metadata": {},
   "outputs": [],
   "source": [
    "def zeros(listA,i,count, listB): #i pivot izquierda\n",
    "    if (i == len(listA)-1):\n",
    "        k = [0] * count\n",
    "        listB.extend(k)\n",
    "        return (listB)\n",
    "    else:\n",
    "        if (listA[i] == 0):\n",
    "            count += 1\n",
    "            return zeros(listA,i+1,count,listB)\n",
    "        else:\n",
    "            listB.append(listA[i])\n",
    "            return zeros(listA,i+1,count,listB)\n",
    "# Tn => a = 1, b = 1, d = 0, Caso 3 O(n)"
   ]
  },
  {
   "cell_type": "code",
   "execution_count": 3,
   "metadata": {},
   "outputs": [
    {
     "data": {
      "text/plain": [
       "[3, 1, 5, 2, 7, 0, 0, 0]"
      ]
     },
     "execution_count": 3,
     "metadata": {},
     "output_type": "execute_result"
    }
   ],
   "source": [
    "l = [3,1,0,5,0,0,2,7,8]\n",
    "zeros(l,0,0,[])"
   ]
  },
  {
   "cell_type": "markdown",
   "metadata": {},
   "source": [
    "<h2 style=\"padding:0.5em 0;font:Garamond;font-size:1.2em;color:#FA0;background-color:#005\">\n",
    "Pregunta 1: El problema et recorda algun dels algorismes de dividir i vèncer? quin? com el pots usar?\n",
    "</h2>"
   ]
  },
  {
   "cell_type": "code",
   "execution_count": null,
   "metadata": {
    "collapsed": true
   },
   "outputs": [],
   "source": [
    "# Inserir aquí les respostes\n",
    "Quicksort, se puede hacer como arriba o desplazando el cero al final. Como gustes."
   ]
  },
  {
   "cell_type": "markdown",
   "metadata": {},
   "source": [
    "<h2 style=\"padding:0.5em 0;font:Garamond;font-size:1.2em;color:#FA0;background-color:#005\">\n",
    "Pregunta 2: Modifica l'algorisme per moure tot els zeros al principi\n",
    "</h2>"
   ]
  },
  {
   "cell_type": "code",
   "execution_count": 8,
   "metadata": {},
   "outputs": [],
   "source": [
    "# Inserir aquí les respostes\n",
    "def zerosInicio(listA,i,count, listB): #i pivot izquierda\n",
    "    if (i == len(listA)-1):\n",
    "        k = [0] * count\n",
    "        k.extend(listB)\n",
    "        return (k)\n",
    "    else:\n",
    "        if (listA[i] == 0):\n",
    "            count += 1\n",
    "            return zerosInicio(listA,i+1,count,listB)\n",
    "        else:\n",
    "            listB.append(listA[i])\n",
    "            return zerosInicio(listA,i+1,count,listB)"
   ]
  },
  {
   "cell_type": "code",
   "execution_count": 9,
   "metadata": {},
   "outputs": [
    {
     "data": {
      "text/plain": [
       "[0, 0, 0, 3, 1, 5, 2, 7]"
      ]
     },
     "execution_count": 9,
     "metadata": {},
     "output_type": "execute_result"
    }
   ],
   "source": [
    "l = [3,1,0,5,0,0,2,7,8]\n",
    "zerosInicio(l,0,0,[])"
   ]
  },
  {
   "cell_type": "markdown",
   "metadata": {},
   "source": [
    "<p style=\"text-align:right;font-size:0.9em\">\n",
    "&copy;Jordi Vitrià i Mireia Ribera\n",
    "</p>"
   ]
  }
 ],
 "metadata": {
  "kernelspec": {
   "display_name": "Python 3",
   "language": "python",
   "name": "python3"
  },
  "language_info": {
   "codemirror_mode": {
    "name": "ipython",
    "version": 3
   },
   "file_extension": ".py",
   "mimetype": "text/x-python",
   "name": "python",
   "nbconvert_exporter": "python",
   "pygments_lexer": "ipython3",
   "version": "3.7.0"
  }
 },
 "nbformat": 4,
 "nbformat_minor": 2
}
